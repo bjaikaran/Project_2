{
 "cells": [
  {
   "cell_type": "code",
   "execution_count": 1,
   "metadata": {
    "collapsed": true
   },
   "outputs": [],
   "source": [
    "import pandas as pd\n",
    "import numpy as np\n",
    "from sqlalchemy import create_engine\n",
    "from sqlalchemy.orm import Session"
   ]
  },
  {
   "cell_type": "code",
   "execution_count": 2,
   "metadata": {
    "collapsed": true
   },
   "outputs": [],
   "source": [
    "engine = create_engine(\"sqlite:///hashtag.sqlite\")\n",
    "session = Session(engine)"
   ]
  },
  {
   "cell_type": "code",
   "execution_count": 3,
   "metadata": {
    "collapsed": true
   },
   "outputs": [],
   "source": [
    "path1 = \"hashtag_May30.csv\"\n",
    "path2 = \"hashtag_June12.csv\"\n",
    "\n",
    "paths_list = [path1, path2]"
   ]
  },
  {
   "cell_type": "code",
   "execution_count": 4,
   "metadata": {},
   "outputs": [
    {
     "name": "stdout",
     "output_type": "stream",
     "text": [
      "grabbing first csv file, length:  8\n",
      "grabbing csv file 1, length:  8\n",
      "dataframe is now 16\n"
     ]
    }
   ],
   "source": [
    "count = 0\n",
    "for file in paths_list:\n",
    "    if count == 0:\n",
    "        hashtag_data = pd.read_csv(file)\n",
    "        print(\"grabbing first csv file, length: \", len(hashtag_data))\n",
    "    else:\n",
    "        new_data = pd.read_csv(file)\n",
    "        print(f\"grabbing csv file {count}, length: \", len(hashtag_data))\n",
    "        hashtag_data = hashtag_data.append(new_data)\n",
    "        print(f\"dataframe is now {len(hashtag_data)}\")\n",
    "    count += 1"
   ]
  },
  {
   "cell_type": "code",
   "execution_count": 5,
   "metadata": {
    "collapsed": true
   },
   "outputs": [],
   "source": [
    "hashtag_data.reset_index(drop = True, inplace = True)"
   ]
  },
  {
   "cell_type": "code",
   "execution_count": 6,
   "metadata": {
    "collapsed": true
   },
   "outputs": [],
   "source": [
    "hashtag_data.to_sql('hashtags', engine, if_exists = 'replace', index = True)\n",
    "session.commit()"
   ]
  },
  {
   "cell_type": "code",
   "execution_count": null,
   "metadata": {
    "collapsed": true
   },
   "outputs": [],
   "source": []
  }
 ],
 "metadata": {
  "kernelspec": {
   "display_name": "Python 3",
   "language": "python",
   "name": "python3"
  },
  "language_info": {
   "codemirror_mode": {
    "name": "ipython",
    "version": 3
   },
   "file_extension": ".py",
   "mimetype": "text/x-python",
   "name": "python",
   "nbconvert_exporter": "python",
   "pygments_lexer": "ipython3",
   "version": "3.6.3"
  }
 },
 "nbformat": 4,
 "nbformat_minor": 2
}
