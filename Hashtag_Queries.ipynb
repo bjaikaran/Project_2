{
 "cells": [
  {
   "cell_type": "code",
   "execution_count": 1,
   "metadata": {
    "collapsed": true
   },
   "outputs": [],
   "source": [
    "from sqlalchemy import create_engine"
   ]
  },
  {
   "cell_type": "code",
   "execution_count": 2,
   "metadata": {},
   "outputs": [],
   "source": [
    "engine = create_engine(\"sqlite:///stocks_hashtags.sqlite\")\n",
    "\n",
    "Rescheduled = engine.execute(\"SELECT * FROM hashtags WHERE Event = 'Rescheduled'\").fetchall()\n",
    "\n",
    "Summit = engine.execute(\"SELECT * FROM hashtags WHERE Event = 'Summit'\").fetchall()"
   ]
  },
  {
   "cell_type": "code",
   "execution_count": 3,
   "metadata": {},
   "outputs": [
    {
     "data": {
      "text/plain": [
       "[(0, 'DPRK', 19045, 'Rescheduled'),\n",
       " (1, 'NorthKorea', 2794, 'Rescheduled'),\n",
       " (2, 'BREAKING', 1130, 'Rescheduled'),\n",
       " (3, 'Trump', 993, 'Rescheduled'),\n",
       " (4, 'AmericaFirst', 515, 'Rescheduled'),\n",
       " (5, 'QuoteOfTheDay', 475, 'Rescheduled'),\n",
       " (6, 'Lavrov', 467, 'Rescheduled'),\n",
       " (7, 'US', 397, 'Rescheduled')]"
      ]
     },
     "execution_count": 3,
     "metadata": {},
     "output_type": "execute_result"
    }
   ],
   "source": [
    "Rescheduled"
   ]
  },
  {
   "cell_type": "code",
   "execution_count": 4,
   "metadata": {},
   "outputs": [
    {
     "data": {
      "text/plain": [
       "[(8, 'DPRK', 3866, 'Summit'),\n",
       " (9, 'ROK', 1636, 'Summit'),\n",
       " (10, 'Japan', 1548, 'Summit'),\n",
       " (11, 'TrumpKimSummit', 734, 'Summit'),\n",
       " (12, 'SingaporeSummit', 690, 'Summit'),\n",
       " (13, 'China', 360, 'Summit'),\n",
       " (14, 'Trump', 330, 'Summit'),\n",
       " (15, 'NorthKorea', 330, 'Summit')]"
      ]
     },
     "execution_count": 4,
     "metadata": {},
     "output_type": "execute_result"
    }
   ],
   "source": [
    "Summit"
   ]
  },
  {
   "cell_type": "code",
   "execution_count": null,
   "metadata": {
    "collapsed": true
   },
   "outputs": [],
   "source": []
  }
 ],
 "metadata": {
  "kernelspec": {
   "display_name": "Python 3",
   "language": "python",
   "name": "python3"
  },
  "language_info": {
   "codemirror_mode": {
    "name": "ipython",
    "version": 3
   },
   "file_extension": ".py",
   "mimetype": "text/x-python",
   "name": "python",
   "nbconvert_exporter": "python",
   "pygments_lexer": "ipython3",
   "version": "3.6.3"
  }
 },
 "nbformat": 4,
 "nbformat_minor": 2
}
