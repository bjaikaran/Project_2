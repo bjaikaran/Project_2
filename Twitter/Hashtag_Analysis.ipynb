{
 "cells": [
  {
   "cell_type": "code",
   "execution_count": 1,
   "metadata": {
    "collapsed": true
   },
   "outputs": [],
   "source": [
    "import pandas as pd\n",
    "import numpy as np\n",
    "import matplotlib.pyplot as plt"
   ]
  },
  {
   "cell_type": "code",
   "execution_count": 2,
   "metadata": {},
   "outputs": [],
   "source": [
    "hash_df = pd.read_csv(\"hashtags_counts_by_day.csv\", encoding=\"latin-1\")"
   ]
  },
  {
   "cell_type": "code",
   "execution_count": 3,
   "metadata": {},
   "outputs": [
    {
     "name": "stderr",
     "output_type": "stream",
     "text": [
      "/anaconda3/lib/python3.6/site-packages/ipykernel_launcher.py:14: FutureWarning: set_value is deprecated and will be removed in a future release. Please use .at[] or .iat[] accessors instead\n",
      "  \n"
     ]
    },
    {
     "data": {
      "text/html": [
       "<div>\n",
       "<style scoped>\n",
       "    .dataframe tbody tr th:only-of-type {\n",
       "        vertical-align: middle;\n",
       "    }\n",
       "\n",
       "    .dataframe tbody tr th {\n",
       "        vertical-align: top;\n",
       "    }\n",
       "\n",
       "    .dataframe thead th {\n",
       "        text-align: right;\n",
       "    }\n",
       "</style>\n",
       "<table border=\"1\" class=\"dataframe\">\n",
       "  <thead>\n",
       "    <tr style=\"text-align: right;\">\n",
       "      <th></th>\n",
       "      <th>Count</th>\n",
       "      <th>Event</th>\n",
       "    </tr>\n",
       "    <tr>\n",
       "      <th>Hashtag</th>\n",
       "      <th></th>\n",
       "      <th></th>\n",
       "    </tr>\n",
       "  </thead>\n",
       "  <tbody>\n",
       "    <tr>\n",
       "      <th>DPRK</th>\n",
       "      <td>3866</td>\n",
       "      <td>Summit</td>\n",
       "    </tr>\n",
       "    <tr>\n",
       "      <th>ROK</th>\n",
       "      <td>1636</td>\n",
       "      <td>Summit</td>\n",
       "    </tr>\n",
       "    <tr>\n",
       "      <th>Japan</th>\n",
       "      <td>1548</td>\n",
       "      <td>Summit</td>\n",
       "    </tr>\n",
       "    <tr>\n",
       "      <th>TrumpKimSummit</th>\n",
       "      <td>734</td>\n",
       "      <td>Summit</td>\n",
       "    </tr>\n",
       "    <tr>\n",
       "      <th>SingaporeSummit</th>\n",
       "      <td>690</td>\n",
       "      <td>Summit</td>\n",
       "    </tr>\n",
       "    <tr>\n",
       "      <th>China</th>\n",
       "      <td>360</td>\n",
       "      <td>Summit</td>\n",
       "    </tr>\n",
       "    <tr>\n",
       "      <th>Trump</th>\n",
       "      <td>330</td>\n",
       "      <td>Summit</td>\n",
       "    </tr>\n",
       "    <tr>\n",
       "      <th>NorthKorea</th>\n",
       "      <td>330</td>\n",
       "      <td>Summit</td>\n",
       "    </tr>\n",
       "  </tbody>\n",
       "</table>\n",
       "</div>"
      ],
      "text/plain": [
       "                 Count   Event\n",
       "Hashtag                       \n",
       "DPRK              3866  Summit\n",
       "ROK               1636  Summit\n",
       "Japan             1548  Summit\n",
       "TrumpKimSummit     734  Summit\n",
       "SingaporeSummit    690  Summit\n",
       "China              360  Summit\n",
       "Trump              330  Summit\n",
       "NorthKorea         330  Summit"
      ]
     },
     "execution_count": 3,
     "metadata": {},
     "output_type": "execute_result"
    }
   ],
   "source": [
    "hashtag_612 = hash_df[(hash_df[\"date\"] > \"2018-06-10\") & (hash_df[\"date\"] < \"2018-06-15\")]\n",
    "\n",
    "hashtag_612 = hashtag_612.set_index(\"date\")\n",
    "\n",
    "hashtag_612 = pd.DataFrame(hashtag_612[\"hashtag\"].value_counts().reset_index())\n",
    "\n",
    "hashtag_612 = hashtag_612.rename(columns = {\"index\": \"Hashtag\", \"hashtag\": \"Count\"})\n",
    "\n",
    "hashtag_612 = hashtag_612.set_index(\"Hashtag\")\n",
    "\n",
    "hashtag_612 = hashtag_612.iloc[0:8]\n",
    "\n",
    "for index, row in hashtag_612.iterrows():\n",
    "    hashtag_612.set_value(index, \"Event\", \"Summit\")\n",
    "\n",
    "hashtag_612.to_csv(\"hashtag_June12.csv\")\n",
    "\n",
    "hashtag_612"
   ]
  },
  {
   "cell_type": "code",
   "execution_count": 4,
   "metadata": {},
   "outputs": [
    {
     "name": "stderr",
     "output_type": "stream",
     "text": [
      "/anaconda3/lib/python3.6/site-packages/ipykernel_launcher.py:14: FutureWarning: set_value is deprecated and will be removed in a future release. Please use .at[] or .iat[] accessors instead\n",
      "  \n"
     ]
    },
    {
     "data": {
      "text/html": [
       "<div>\n",
       "<style scoped>\n",
       "    .dataframe tbody tr th:only-of-type {\n",
       "        vertical-align: middle;\n",
       "    }\n",
       "\n",
       "    .dataframe tbody tr th {\n",
       "        vertical-align: top;\n",
       "    }\n",
       "\n",
       "    .dataframe thead th {\n",
       "        text-align: right;\n",
       "    }\n",
       "</style>\n",
       "<table border=\"1\" class=\"dataframe\">\n",
       "  <thead>\n",
       "    <tr style=\"text-align: right;\">\n",
       "      <th></th>\n",
       "      <th>Count</th>\n",
       "      <th>Event</th>\n",
       "    </tr>\n",
       "    <tr>\n",
       "      <th>Hashtag</th>\n",
       "      <th></th>\n",
       "      <th></th>\n",
       "    </tr>\n",
       "  </thead>\n",
       "  <tbody>\n",
       "    <tr>\n",
       "      <th>DPRK</th>\n",
       "      <td>19045</td>\n",
       "      <td>Rescheduled</td>\n",
       "    </tr>\n",
       "    <tr>\n",
       "      <th>NorthKorea</th>\n",
       "      <td>2794</td>\n",
       "      <td>Rescheduled</td>\n",
       "    </tr>\n",
       "    <tr>\n",
       "      <th>BREAKING</th>\n",
       "      <td>1130</td>\n",
       "      <td>Rescheduled</td>\n",
       "    </tr>\n",
       "    <tr>\n",
       "      <th>Trump</th>\n",
       "      <td>993</td>\n",
       "      <td>Rescheduled</td>\n",
       "    </tr>\n",
       "    <tr>\n",
       "      <th>AmericaFirst</th>\n",
       "      <td>515</td>\n",
       "      <td>Rescheduled</td>\n",
       "    </tr>\n",
       "    <tr>\n",
       "      <th>QuoteOfTheDay</th>\n",
       "      <td>475</td>\n",
       "      <td>Rescheduled</td>\n",
       "    </tr>\n",
       "    <tr>\n",
       "      <th>Lavrov</th>\n",
       "      <td>467</td>\n",
       "      <td>Rescheduled</td>\n",
       "    </tr>\n",
       "    <tr>\n",
       "      <th>US</th>\n",
       "      <td>397</td>\n",
       "      <td>Rescheduled</td>\n",
       "    </tr>\n",
       "  </tbody>\n",
       "</table>\n",
       "</div>"
      ],
      "text/plain": [
       "               Count        Event\n",
       "Hashtag                          \n",
       "DPRK           19045  Rescheduled\n",
       "NorthKorea      2794  Rescheduled\n",
       "BREAKING        1130  Rescheduled\n",
       "Trump            993  Rescheduled\n",
       "AmericaFirst     515  Rescheduled\n",
       "QuoteOfTheDay    475  Rescheduled\n",
       "Lavrov           467  Rescheduled\n",
       "US               397  Rescheduled"
      ]
     },
     "execution_count": 4,
     "metadata": {},
     "output_type": "execute_result"
    }
   ],
   "source": [
    "hashtag_530 = hash_df[(hash_df[\"date\"] > \"2018-05-28\") & (hash_df[\"date\"] < \"2018-06-02\")]\n",
    "\n",
    "hashtag_530 = hashtag_530.set_index(\"date\")\n",
    "\n",
    "hashtag_530 = pd.DataFrame(hashtag_530[\"hashtag\"].value_counts().reset_index())\n",
    "\n",
    "hashtag_530 = hashtag_530.rename(columns = {\"index\": \"Hashtag\", \"hashtag\": \"Count\"})\n",
    "\n",
    "hashtag_530 = hashtag_530.set_index(\"Hashtag\")\n",
    "\n",
    "hashtag_530 = hashtag_530.iloc[0:8]\n",
    "\n",
    "for index, row in hashtag_530.iterrows():\n",
    "    hashtag_530.set_value(index, \"Event\", \"Rescheduled\")\n",
    "\n",
    "hashtag_530.to_csv(\"hashtag_May30.csv\")\n",
    "\n",
    "hashtag_530"
   ]
  },
  {
   "cell_type": "code",
   "execution_count": null,
   "metadata": {
    "collapsed": true
   },
   "outputs": [],
   "source": []
  }
 ],
 "metadata": {
  "kernelspec": {
   "display_name": "Python 3",
   "language": "python",
   "name": "python3"
  },
  "language_info": {
   "codemirror_mode": {
    "name": "ipython",
    "version": 3
   },
   "file_extension": ".py",
   "mimetype": "text/x-python",
   "name": "python",
   "nbconvert_exporter": "python",
   "pygments_lexer": "ipython3",
   "version": "3.6.3"
  }
 },
 "nbformat": 4,
 "nbformat_minor": 2
}
