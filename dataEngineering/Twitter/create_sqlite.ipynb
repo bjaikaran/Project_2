{
 "cells": [
  {
   "cell_type": "markdown",
   "metadata": {},
   "source": [
    "# Creating a sqlite database"
   ]
  },
  {
   "cell_type": "code",
   "execution_count": 1,
   "metadata": {
    "collapsed": true
   },
   "outputs": [],
   "source": [
    "import pandas as pd\n",
    "import numpy as np\n",
    "from sqlalchemy import create_engine\n",
    "from sqlalchemy.orm import Session"
   ]
  },
  {
   "cell_type": "code",
   "execution_count": 2,
   "metadata": {
    "collapsed": true
   },
   "outputs": [],
   "source": [
    "engine = create_engine('sqlite:///stocks_hashtags.sqlite')\n",
    "session = Session(engine)"
   ]
  },
  {
   "cell_type": "code",
   "execution_count": 3,
   "metadata": {
    "collapsed": true
   },
   "outputs": [],
   "source": [
    "path1 = \"DJA_June12.csv\"\n",
    "path2 = \"DJA_May30.csv\"\n",
    "path3 = \"EUXL_June12.csv\"\n",
    "path4 = \"EUXL_May30.csv\"\n",
    "path5 = \"GSPC_June12.csv\"\n",
    "path6 = \"GSPC_May30.csv\"\n",
    "\n",
    "paths_list = [path1, path2, path3, path4, path5, path6]"
   ]
  },
  {
   "cell_type": "code",
   "execution_count": 4,
   "metadata": {},
   "outputs": [
    {
     "name": "stdout",
     "output_type": "stream",
     "text": [
      "grabbing first csv file, length:  5\n",
      "grabbing csv file 1, length:  5\n",
      "dataframe is now 10\n",
      "grabbing csv file 2, length:  10\n",
      "dataframe is now 15\n",
      "grabbing csv file 3, length:  15\n",
      "dataframe is now 20\n",
      "grabbing csv file 4, length:  20\n",
      "dataframe is now 25\n",
      "grabbing csv file 5, length:  25\n",
      "dataframe is now 30\n"
     ]
    }
   ],
   "source": [
    "count = 0\n",
    "for file in paths_list:\n",
    "    if count == 0:\n",
    "        stock_data = pd.read_csv(file)\n",
    "        print(\"grabbing first csv file, length: \", len(stock_data))\n",
    "    else:\n",
    "        new_data = pd.read_csv(file)\n",
    "        print(f\"grabbing csv file {count}, length: \", len(stock_data))\n",
    "        stock_data = stock_data.append(new_data)\n",
    "        print(f\"dataframe is now {len(stock_data)}\")\n",
    "    count += 1"
   ]
  },
  {
   "cell_type": "code",
   "execution_count": 5,
   "metadata": {
    "collapsed": true
   },
   "outputs": [],
   "source": [
    "stock_data.reset_index(drop = True, inplace = True)"
   ]
  },
  {
   "cell_type": "code",
   "execution_count": 6,
   "metadata": {
    "collapsed": true
   },
   "outputs": [],
   "source": [
    "stock_data.to_sql('stocks', engine, if_exists = 'replace', index = True)\n",
    "session.commit()"
   ]
  },
  {
   "cell_type": "code",
   "execution_count": 7,
   "metadata": {},
   "outputs": [
    {
     "name": "stdout",
     "output_type": "stream",
     "text": [
      "grabbing first csv file, length:  8\n",
      "grabbing csv file 1, length:  8\n",
      "dataframe is now 16\n"
     ]
    }
   ],
   "source": [
    "path1 = \"hashtag_May30.csv\"\n",
    "path2 = \"hashtag_June12.csv\"\n",
    "\n",
    "paths_list = [path1, path2]\n",
    "\n",
    "count = 0\n",
    "for file in paths_list:\n",
    "    if count == 0:\n",
    "        hashtag_data = pd.read_csv(file)\n",
    "        print(\"grabbing first csv file, length: \", len(hashtag_data))\n",
    "    else:\n",
    "        new_data = pd.read_csv(file)\n",
    "        print(f\"grabbing csv file {count}, length: \", len(hashtag_data))\n",
    "        hashtag_data = hashtag_data.append(new_data)\n",
    "        print(f\"dataframe is now {len(hashtag_data)}\")\n",
    "    count += 1"
   ]
  },
  {
   "cell_type": "code",
   "execution_count": 8,
   "metadata": {
    "collapsed": true
   },
   "outputs": [],
   "source": [
    "hashtag_data.reset_index(drop = True, inplace = True)"
   ]
  },
  {
   "cell_type": "code",
   "execution_count": 9,
   "metadata": {
    "collapsed": true
   },
   "outputs": [],
   "source": [
    "hashtag_data.to_sql('hashtags', engine, if_exists = 'replace', index = True)\n",
    "session.commit()"
   ]
  }
 ],
 "metadata": {
  "kernelspec": {
   "display_name": "Python 3",
   "language": "python",
   "name": "python3"
  },
  "language_info": {
   "codemirror_mode": {
    "name": "ipython",
    "version": 3
   },
   "file_extension": ".py",
   "mimetype": "text/x-python",
   "name": "python",
   "nbconvert_exporter": "python",
   "pygments_lexer": "ipython3",
   "version": "3.6.3"
  }
 },
 "nbformat": 4,
 "nbformat_minor": 2
}
