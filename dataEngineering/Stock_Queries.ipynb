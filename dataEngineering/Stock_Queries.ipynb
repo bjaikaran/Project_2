{
 "cells": [
  {
   "cell_type": "code",
   "execution_count": 1,
   "metadata": {
    "collapsed": true
   },
   "outputs": [],
   "source": [
    "from sqlalchemy.ext.automap import automap_base\n",
    "from sqlalchemy.orm import Session\n",
    "from sqlalchemy import create_engine, func"
   ]
  },
  {
   "cell_type": "code",
   "execution_count": 2,
   "metadata": {
    "collapsed": true
   },
   "outputs": [],
   "source": [
    "#create database\n",
    "engine = create_engine(\"sqlite:///stocks_hashtags.sqlite\")"
   ]
  },
  {
   "cell_type": "code",
   "execution_count": 3,
   "metadata": {
    "collapsed": true
   },
   "outputs": [],
   "source": [
    "Symbols = ['DJA', 'GSPC', 'EUXL']\n",
    "Rescheduled = []\n",
    "Summit = []"
   ]
  },
  {
   "cell_type": "code",
   "execution_count": 4,
   "metadata": {
    "collapsed": true
   },
   "outputs": [],
   "source": [
    "#iterate through Symbols list and query results\n",
    "for i in Symbols:\n",
    "    result = engine.execute(\"Select * FROM stocks WHERE Symbol = ('%s') AND Event = 'Rescheduled'\" % (i)).fetchall()\n",
    "    Rescheduled.append(result)\n",
    "\n",
    "for i in Symbols: \n",
    "    result = engine.execute(\"Select * FROM stocks WHERE Symbol = ('%s') AND Event = 'Summit'\" % (i)).fetchall()\n",
    "    Summit.append(result)"
   ]
  },
  {
   "cell_type": "code",
   "execution_count": 5,
   "metadata": {},
   "outputs": [
    {
     "data": {
      "text/plain": [
       "[[(5, '2018-06-01', 8270.94, 8347.58, 8231.1, 8290.68, 8290.68, '3684130000.0', 'DJA', 'Rescheduled'),\n",
       "  (6, '2018-05-25', 8311.25, 8372.12, 8269.58, 8323.08, 8323.08, '2995260000.0', 'DJA', 'Rescheduled'),\n",
       "  (7, '2018-05-29', 8286.76, 8315.46, 8158.93, 8216.47, 8216.47, '3736890000.0', 'DJA', 'Rescheduled'),\n",
       "  (8, '2018-05-30', 8240.06, 8352.97, 8216.74, 8319.06, 8319.06, '3561050000.0', 'DJA', 'Rescheduled'),\n",
       "  (9, '2018-05-31', 8307.13, 8337.44, 8196.97, 8234.53, 8234.53, '4235370000.0', 'DJA', 'Rescheduled')],\n",
       " [(25, '2018-06-01', 2718.7, 2736.93, 2718.7, 2734.62, 2734.62, '3684130000.0', 'GSPC', 'Rescheduled'),\n",
       "  (26, '2018-05-25', 2723.6, 2727.36, 2714.99, 2721.33, 2721.33, '2995260000.0', 'GSPC', 'Rescheduled'),\n",
       "  (27, '2018-05-29', 2705.11, 2710.67, 2676.81, 2689.86, 2689.86, '3736890000.0', 'GSPC', 'Rescheduled'),\n",
       "  (28, '2018-05-30', 2702.43, 2729.34, 2702.43, 2724.01, 2724.01, '3561050000.0', 'GSPC', 'Rescheduled'),\n",
       "  (29, '2018-05-31', 2720.98, 2722.5, 2700.68, 2705.27, 2705.27, '4235370000.0', 'GSPC', 'Rescheduled')],\n",
       " [(15, '2018-06-01', 23.42, 23.44, 23.33, 23.44, 23.07, '2300', 'EUXL', 'Rescheduled'),\n",
       "  (16, '2018-05-25', 25.25, 25.25, 25.25, 25.25, 24.86, '-', 'EUXL', 'Rescheduled'),\n",
       "  (17, '2018-05-29', 22.45, 22.7, 21.45, 21.78, 21.44, '9500', 'EUXL', 'Rescheduled'),\n",
       "  (18, '2018-05-30', 22.9, 23.3, 22.6, 23.17, 22.81, '8000', 'EUXL', 'Rescheduled'),\n",
       "  (19, '2018-05-31', 22.63, 22.79, 22.5, 22.79, 22.43, '9300', 'EUXL', 'Rescheduled')]]"
      ]
     },
     "execution_count": 5,
     "metadata": {},
     "output_type": "execute_result"
    }
   ],
   "source": [
    "Rescheduled"
   ]
  },
  {
   "cell_type": "code",
   "execution_count": 6,
   "metadata": {},
   "outputs": [
    {
     "data": {
      "text/plain": [
       "[[(0, '2018-06-08', 8354.63, 8427.27, 8313.91, 8397.13, 8397.13, '3123210000.0', 'DJA', 'Summit'),\n",
       "  (1, '2018-06-11', 8403.4, 8477.28, 8351.97, 8411.81, 8411.81, '3232330000.0', 'DJA', 'Summit'),\n",
       "  (2, '2018-06-12', 8418.49, 8486.33, 8365.19, 8433.63, 8433.63, '3401010000.0', 'DJA', 'Summit'),\n",
       "  (3, '2018-06-13', 8437.81, 8491.19, 8360.09, 8390.05, 8390.05, '3779230000.0', 'DJA', 'Summit'),\n",
       "  (4, '2018-06-14', 8407.21, 8469.7, 8349.97, 8401.05, 8401.05, '3526890000.0', 'DJA', 'Summit')],\n",
       " [(20, '2018-06-08', 2765.84, 2779.39, 2763.59, 2779.03, 2779.03, '3123210000.0', 'GSPC', 'Summit'),\n",
       "  (21, '2018-06-11', 2780.18, 2790.21, 2780.17, 2782.0, 2782.0, '3232330000.0', 'GSPC', 'Summit'),\n",
       "  (22, '2018-06-12', 2785.6, 2789.8, 2778.78, 2786.85, 2786.85, '3401010000.0', 'GSPC', 'Summit'),\n",
       "  (23, '2018-06-13', 2787.94, 2791.47, 2774.65, 2775.63, 2775.63, '3779230000.0', 'GSPC', 'Summit'),\n",
       "  (24, '2018-06-14', 2783.21, 2789.06, 2776.52, 2782.49, 2782.49, '3526890000.0', 'GSPC', 'Summit')],\n",
       " [(10, '2018-06-08', 23.96, 23.96, 23.96, 23.96, 23.59, '300.0', 'EUXL', 'Summit'),\n",
       "  (11, '2018-06-11', 24.58, 24.79, 24.58, 24.79, 24.4, '2600.0', 'EUXL', 'Summit'),\n",
       "  (12, '2018-06-12', 24.77, 24.77, 24.5, 24.5, 24.12, '700.0', 'EUXL', 'Summit'),\n",
       "  (13, '2018-06-13', 24.59, 24.59, 24.59, 24.59, 24.21, '300.0', 'EUXL', 'Summit'),\n",
       "  (14, '2018-06-14', 24.59, 24.9, 24.57, 24.57, 24.19, '2000.0', 'EUXL', 'Summit')]]"
      ]
     },
     "execution_count": 6,
     "metadata": {},
     "output_type": "execute_result"
    }
   ],
   "source": [
    "Summit"
   ]
  },
  {
   "cell_type": "code",
   "execution_count": null,
   "metadata": {
    "collapsed": true
   },
   "outputs": [],
   "source": []
  }
 ],
 "metadata": {
  "kernelspec": {
   "display_name": "Python 3",
   "language": "python",
   "name": "python3"
  },
  "language_info": {
   "codemirror_mode": {
    "name": "ipython",
    "version": 3
   },
   "file_extension": ".py",
   "mimetype": "text/x-python",
   "name": "python",
   "nbconvert_exporter": "python",
   "pygments_lexer": "ipython3",
   "version": "3.6.3"
  }
 },
 "nbformat": 4,
 "nbformat_minor": 2
}
