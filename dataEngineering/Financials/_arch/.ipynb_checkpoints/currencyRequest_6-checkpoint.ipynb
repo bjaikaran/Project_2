{
 "cells": [
  {
   "cell_type": "code",
   "execution_count": 38,
   "metadata": {},
   "outputs": [],
   "source": [
    "import json\n",
    "import requests\n",
    "import statistics as st\n",
    "import pandas as pd\n",
    "import numpy as np\n",
    "import datetime as dt\n",
    "import pyprind as bar\n",
    "from dateutil import parser\n",
    "from config import cur_lay_api"
   ]
  },
  {
   "cell_type": "code",
   "execution_count": 2,
   "metadata": {},
   "outputs": [],
   "source": [
    "currencyDate = []\n",
    "currencyId = []\n",
    "currencyTitle = []\n",
    "currencyConv = []\n",
    "currencyVal = []\n",
    "cur_con_pfx = \"USD\"\n",
    "cur_conv = {\"KPW\":\"North Korean Won\",\n",
    "            \"KRW\":\"South Korean Won\",\n",
    "            \"GBP\":\"British Pound Sterling\",\n",
    "            \"EUR\":\"Euro\",\n",
    "            \"HKD\":\"Hong Kong Dollar\"}"
   ]
  },
  {
   "cell_type": "code",
   "execution_count": 3,
   "metadata": {},
   "outputs": [],
   "source": [
    "currency_titles = pd.read_html(\"cur_table.html\",encoding=\"latin-1\")[0:]"
   ]
  },
  {
   "cell_type": "code",
   "execution_count": 4,
   "metadata": {},
   "outputs": [],
   "source": [
    "titles = currency_titles[0]"
   ]
  },
  {
   "cell_type": "code",
   "execution_count": 5,
   "metadata": {},
   "outputs": [],
   "source": [
    "start = dt.date(2018,5,15)\n",
    "end = dt.date.today()\n",
    "duration = (end - start).days"
   ]
  },
  {
   "cell_type": "code",
   "execution_count": 6,
   "metadata": {},
   "outputs": [
    {
     "name": "stderr",
     "output_type": "stream",
     "text": [
      "Retrieving historical currency data for KPW\n",
      "Retrieving historical currency data for KRW\n",
      "Retrieving historical currency data for GBP\n",
      "Retrieving historical currency data for EUR\n",
      "Retrieving historical currency data for HKD\n"
     ]
    }
   ],
   "source": [
    "for cur in cur_conv.keys():\n",
    "    progress = bar.ProgBar(duration, monitor=True, title=\"Retrieving historical currency data for {0}\".format(cur))\n",
    "    days = 0\n",
    "    while days <= duration:\n",
    "        date_it = (start+dt.timedelta(days=(days))).strftime(\"%Y-%m-%d\")\n",
    "        base_url = \"https://apilayer.net/api/historical?access_key={0}&date={1}&source=USD&format=1\".format(cur_lay_api,date_it)\n",
    "        response = requests.get(base_url)\n",
    "        data = response.json()\n",
    "        currencyId.append(cur)\n",
    "        currencyTitle.append(cur_conv[cur])\n",
    "        currencyConv.append(\"USD\")\n",
    "        currencyDate.append(parser.parse(date_it))\n",
    "        currencyVal.append(float(data[\"quotes\"][cur_con_pfx+cur]))\n",
    "        days+=1\n",
    "    progress.update()"
   ]
  },
  {
   "cell_type": "code",
   "execution_count": 7,
   "metadata": {},
   "outputs": [],
   "source": [
    "col_dtypes = {\"date\":\"datetime64[ns]\",\n",
    "              \"currency\":\"object\",\n",
    "              \"currencyName\":\"object\",\n",
    "              \"toCurrency\":\"object\",\n",
    "              \"rate\":\"float64\"}\n",
    "\n",
    "currency_df = pd.DataFrame(np.column_stack([currencyDate, currencyId, currencyTitle, currencyConv, currencyVal]),\n",
    "                           columns=[\"date\",\"currency\",\"currencyName\",\"toCurrency\",\"rate\"]).astype(col_dtypes)\n"
   ]
  },
  {
   "cell_type": "code",
   "execution_count": 8,
   "metadata": {},
   "outputs": [
    {
     "data": {
      "text/plain": [
       "date            datetime64[ns]\n",
       "currency                object\n",
       "currencyName            object\n",
       "toCurrency              object\n",
       "rate                   float64\n",
       "dtype: object"
      ]
     },
     "execution_count": 8,
     "metadata": {},
     "output_type": "execute_result"
    }
   ],
   "source": [
    "currency_df.dtypes"
   ]
  },
  {
   "cell_type": "code",
   "execution_count": 10,
   "metadata": {},
   "outputs": [],
   "source": [
    "currency_df[\"valueUSD\"]=1/currency_df[\"rate\"]"
   ]
  },
  {
   "cell_type": "code",
   "execution_count": 41,
   "metadata": {},
   "outputs": [],
   "source": [
    "currencyRatePivot = pd.pivot_table(currency_df, values=[\"rate\"], index=[\"currency\",\"date\"])"
   ]
  },
  {
   "cell_type": "code",
   "execution_count": 42,
   "metadata": {},
   "outputs": [],
   "source": [
    "currencyUSDPivot = pd.pivot_table(currency_df, values=[\"valueUSD\"], index=[\"currency\",\"date\"])"
   ]
  },
  {
   "cell_type": "code",
   "execution_count": 48,
   "metadata": {},
   "outputs": [],
   "source": [
    "curRateDeviation = currencyRatePivot.std(level=\"currency\")"
   ]
  },
  {
   "cell_type": "code",
   "execution_count": 49,
   "metadata": {},
   "outputs": [],
   "source": [
    "curRateVariance = currencyRatePivot.var(level=\"currency\")"
   ]
  },
  {
   "cell_type": "code",
   "execution_count": 50,
   "metadata": {},
   "outputs": [],
   "source": [
    "curUSDDeviation = currencyUSDPivot.std(level=\"currency\")"
   ]
  },
  {
   "cell_type": "code",
   "execution_count": 51,
   "metadata": {},
   "outputs": [],
   "source": [
    "curUSDVariance = currencyUSDPivot.var(level=\"currency\")"
   ]
  }
 ],
 "metadata": {
  "kernelspec": {
   "display_name": "Python 3",
   "language": "python",
   "name": "python3"
  },
  "language_info": {
   "codemirror_mode": {
    "name": "ipython",
    "version": 3
   },
   "file_extension": ".py",
   "mimetype": "text/x-python",
   "name": "python",
   "nbconvert_exporter": "python",
   "pygments_lexer": "ipython3",
   "version": "3.6.5"
  }
 },
 "nbformat": 4,
 "nbformat_minor": 2
}
