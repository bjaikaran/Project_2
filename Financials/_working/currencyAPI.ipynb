{
 "cells": [
  {
   "cell_type": "code",
   "execution_count": null,
   "metadata": {},
   "outputs": [],
   "source": [
    "import json\n",
    "import requests\n",
    "import statistics as st\n",
    "import pandas as pd\n",
    "import numpy as np\n",
    "import datetime as dt\n",
    "import time\n",
    "!pip install pyprind\n",
    "import pyprind as bar\n",
    "from dateutil import parser\n",
    "from config import cur_lay_api"
   ]
  },
  {
   "cell_type": "code",
   "execution_count": null,
   "metadata": {},
   "outputs": [],
   "source": [
    "currencyDate = []\n",
    "currencyId = []\n",
    "currencyTitle = []\n",
    "currencyConv = []\n",
    "currencyVal = []\n",
    "cur_con_pfx = \"USD\"\n",
    "cur_conv = {\"KPW\":\"North Korean Won\",\n",
    "            \"KRW\":\"South Korean Won\",\n",
    "            \"GBP\":\"British Pound Sterling\",\n",
    "            \"EUR\":\"Euro\",\n",
    "            \"HKD\":\"Hong Kong Dollar\"}"
   ]
  },
  {
   "cell_type": "code",
   "execution_count": null,
   "metadata": {},
   "outputs": [],
   "source": [
    "currency_titles = pd.read_html(\"cur_table.html\",encoding=\"latin-1\")[0:]"
   ]
  },
  {
   "cell_type": "code",
   "execution_count": null,
   "metadata": {},
   "outputs": [],
   "source": [
    "currencyTitles = currency_titles[0].set_index([\"Code\", \"Name\"])"
   ]
  },
  {
   "cell_type": "code",
   "execution_count": null,
   "metadata": {},
   "outputs": [],
   "source": [
    "currencyTitles.head()"
   ]
  },
  {
   "cell_type": "code",
   "execution_count": null,
   "metadata": {},
   "outputs": [],
   "source": [
    "start = dt.date(2018,5,15)\n",
    "today = dt.date.today()\n",
    "end = dt.date(today.year,today.month,today.day-1)\n",
    "duration = (end - start).days"
   ]
  },
  {
   "cell_type": "code",
   "execution_count": null,
   "metadata": {},
   "outputs": [],
   "source": [
    "run_s = time.time()\n",
    "for cur in cur_conv.keys():\n",
    "    days = 0\n",
    "    progress = bar.ProgBar(duration, monitor=True, title=\"\\n\\n\\n\\nRetrieving historical currency data for {0}\".format(cur))\n",
    "    while days <= duration:\n",
    "        date_it = (start+dt.timedelta(days=(days))).strftime(\"%Y-%m-%d\")\n",
    "        base_url = \"https://apilayer.net/api/historical?access_key={0}&date={1}&source=USD&format=1\".format(cur_lay_api,date_it)\n",
    "        response = requests.get(base_url)\n",
    "        data = response.json()\n",
    "        currencyId.append(cur)\n",
    "        currencyTitle.append(cur_conv[cur])\n",
    "        currencyConv.append(\"USD\")\n",
    "        currencyDate.append(parser.parse(date_it))\n",
    "        currencyVal.append(float(data[\"quotes\"][cur_con_pfx+cur]))\n",
    "        days+=1\n",
    "        progress.update()\n",
    "run_e = time.time()\n",
    "total_time = run_e - run_s\n",
    "print(\"\\n\\n\\nAPI Retrieval Completed in {:0.4f} seconds\".format(total_time))"
   ]
  },
  {
   "cell_type": "code",
   "execution_count": null,
   "metadata": {},
   "outputs": [],
   "source": [
    "col_dtypes = {\"date\":\"datetime64[ns]\",\n",
    "              \"currency\":\"object\",\n",
    "              \"currencyName\":\"object\",\n",
    "              \"toCurrency\":\"object\",\n",
    "              \"rate\":\"float64\"}\n",
    "\n",
    "currency_df = pd.DataFrame(np.column_stack([currencyDate, currencyId, currencyTitle, currencyConv, currencyVal]),\n",
    "                           columns=[\"date\",\"currency\",\"currencyName\",\"toCurrency\",\"rate\"]).astype(col_dtypes)\n"
   ]
  },
  {
   "cell_type": "code",
   "execution_count": null,
   "metadata": {},
   "outputs": [],
   "source": [
    "currency_df.dtypes"
   ]
  },
  {
   "cell_type": "code",
   "execution_count": null,
   "metadata": {},
   "outputs": [],
   "source": [
    "currency_df[\"valueUSD\"]=1/currency_df[\"rate\"]"
   ]
  },
  {
   "cell_type": "code",
   "execution_count": null,
   "metadata": {},
   "outputs": [],
   "source": [
    "currencyRatePivot = pd.pivot_table(currency_df, values=[\"rate\"], index=[\"date\"], columns=[\"currency\"])"
   ]
  },
  {
   "cell_type": "code",
   "execution_count": null,
   "metadata": {},
   "outputs": [],
   "source": [
    "currencyRatePivot"
   ]
  },
  {
   "cell_type": "code",
   "execution_count": null,
   "metadata": {},
   "outputs": [],
   "source": [
    "currencyUSDPivot = pd.pivot_table(currency_df, values=[\"valueUSD\"], index=[\"date\"], columns=[\"currency\"])"
   ]
  },
  {
   "cell_type": "code",
   "execution_count": null,
   "metadata": {},
   "outputs": [],
   "source": [
    "currencyUSDPivot"
   ]
  },
  {
   "cell_type": "code",
   "execution_count": null,
   "metadata": {},
   "outputs": [],
   "source": [
    "curRateDeviation = currencyRatePivot.std(axis=0)\n",
    "print(curRateDeviation)"
   ]
  },
  {
   "cell_type": "code",
   "execution_count": null,
   "metadata": {},
   "outputs": [],
   "source": [
    "curRateVariance = currencyRatePivot.var(axis=0)\n",
    "print(curRateVariance)"
   ]
  },
  {
   "cell_type": "code",
   "execution_count": null,
   "metadata": {},
   "outputs": [],
   "source": [
    "curUSDDeviation = currencyUSDPivot.std(axis=0)\n",
    "print(curUSDDeviation)"
   ]
  },
  {
   "cell_type": "code",
   "execution_count": null,
   "metadata": {},
   "outputs": [],
   "source": [
    "curUSDVariance = currencyUSDPivot.var(axis=0)\n",
    "print(curUSDVariance)"
   ]
  },
  {
   "cell_type": "code",
   "execution_count": null,
   "metadata": {},
   "outputs": [],
   "source": []
  }
 ],
 "metadata": {
  "kernelspec": {
   "display_name": "Python 3.6",
   "language": "python",
   "name": "python36"
  },
  "language_info": {
   "codemirror_mode": {
    "name": "ipython",
    "version": 3
   },
   "file_extension": ".py",
   "mimetype": "text/x-python",
   "name": "python",
   "nbconvert_exporter": "python",
   "pygments_lexer": "ipython3",
   "version": "3.6.3"
  }
 },
 "nbformat": 4,
 "nbformat_minor": 2
}
