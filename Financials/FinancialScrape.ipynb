{
 "cells": [
  {
   "cell_type": "code",
   "execution_count": 1,
   "metadata": {},
   "outputs": [],
   "source": [
    "import pandas as pd\n",
    "import json\n",
    "import statistics\n",
    "import numpy as np\n",
    "import datetime as dt\n",
    "import iexfinance as iexf\n",
    "import pyprind as bar"
   ]
  },
  {
   "cell_type": "code",
   "execution_count": 2,
   "metadata": {},
   "outputs": [],
   "source": [
    "start = dt.date(2018,5,15)\n",
    "end = dt.date(dt.date.today().year, dt.date.today().month,dt.date.today().day-1)\n",
    "end_iexf = dt.date(dt.date.today().year, dt.date.today().month,dt.date.today().day-2)\n",
    "end_t = dt.datetime(end.year,end.month,end.day-1, 4,0,0)"
   ]
  },
  {
   "cell_type": "code",
   "execution_count": 3,
   "metadata": {},
   "outputs": [],
   "source": [
    " stock_symbols = [\"BP\",\n",
    "                \"FDX\",\n",
    "                \"INTC\",\n",
    "                \"MSFT\",\n",
    "                \"ORCL\",\n",
    "                \"UPS\",\n",
    "                \"XOM\"\n",
    "                ]\n",
    "stock_descriptions = {\"BP\": \"BP p.l.c.\",\n",
    "                      \"FDX\": \"FedEx Corporation\",\n",
    "                      \"INTC\": \"Intel Corporation\",\n",
    "                      \"MSFT\": \"Microsoft Corporation\",\n",
    "                      \"ORCL\": \"Oracle Corporation\",\n",
    "                      \"UPS\": \"United Parcel Service Inc.\",                      \n",
    "                      \"XOM\": \"Exxon Mobil Corporation\"                      \n",
    "                     }"
   ]
  },
  {
   "cell_type": "markdown",
   "metadata": {},
   "source": [
    "#### Yahoo! Finance Data"
   ]
  },
  {
   "cell_type": "code",
   "execution_count": 155,
   "metadata": {},
   "outputs": [],
   "source": [
    "start_utc = int(dt.datetime(2018,5,15,4,0,0).timestamp())\n",
    "end_utc = int(end_t.timestamp())\n",
    "\n",
    "yahoo_url = \"https://finance.yahoo.com/quote/{0}/history?period1={1}&period2={2}&interval=1d&filter=history&frequency=1d\"\n",
    "\n",
    "yahoo_col_data = {\"Date\": \"Date\",\n",
    "                  \"Open\": \"Open\",\n",
    "                  \"High\": \"High\",\n",
    "                  \"Low\": \"Low\",\n",
    "                  \"Close*\": \"Close\",\n",
    "                  \"Adj Close**\": \"AdjClose\",\n",
    "                  \"Volume\": \"Volume\",\n",
    "                  \"Symbol\": \"Symbol\",\n",
    "                  \"Source\": \"Source\"\n",
    "}\n",
    "yahoo_col_dtypes = {\"Date\": \"datetime64[ns]\",\n",
    "                    \"Open\": \"float64\",\n",
    "                    \"High\": \"float64\",\n",
    "                    \"Low\": \"float64\",\n",
    "                    \"Close\": \"float64\",\n",
    "                    \"AdjClose\": \"float64\",\n",
    "                    \"Volume\": \"float64\",\n",
    "                    \"Symbol\": \"object\",\n",
    "                    \"Source\": \"object\"\n",
    "                   }\n"
   ]
  },
  {
   "cell_type": "code",
   "execution_count": 161,
   "metadata": {},
   "outputs": [
    {
     "name": "stderr",
     "output_type": "stream",
     "text": [
      "Scraping Yahoo! Finance Historical Stock Performance\n",
      "0% [#######] 100% | ETA: 00:00:00\n",
      "Total time elapsed: 00:00:03\n"
     ]
    }
   ],
   "source": [
    "progress = bar.ProgBar(len(stock_symbols), monitor=True, title=\"Scraping Yahoo! Finance Historical Stock Performance\")\n",
    "for stock in stock_symbols:\n",
    "    temp = pd.read_html(yahoo_url.format(stock,start_utc,end_utc))\n",
    "    df = temp[0][:-1].copy()\n",
    "    df[\"Symbol\"] = stock\n",
    "    df[\"Source\"] = \"Yahoo!\"\n",
    "    df.rename(columns=yahoo_col_data,inplace=True)\n",
    "    df.replace(to_replace = \"-\", value = 0, inplace=True)\n",
    "    df.drop_duplicates(\"Date\", keep=\"first\", inplace=True)\n",
    "    df = df.astype(yahoo_col_dtypes)\n",
    "    df = df.drop(columns=\"AdjClose\")\n",
    "    df[\"Date\"] = df[\"Date\"].dt.normalize()\n",
    "    globals()[\"yahoo_%s\" %stock] = df\n",
    "    globals()[\"yahoo_%s_df\" %stock] = df.set_index(\"Date\")\n",
    "    globals()[\"yahoo_%s_df\" %stock].index = pd.to_datetime(globals()[\"yahoo_%s_df\" %stock].index)\n",
    "    globals()[\"yahoo_%s_df\" %stock].sort_index(ascending = True, inplace = True)\n",
    "    progress.update()"
   ]
  },
  {
   "cell_type": "markdown",
   "metadata": {},
   "source": [
    "#### IEX Financial Data"
   ]
  },
  {
   "cell_type": "code",
   "execution_count": 157,
   "metadata": {},
   "outputs": [],
   "source": [
    "iex_col_data = [\"Date\",\"Open\",\"High\",\"Low\",\"Close\",\"Volume\",\"Symbol\",\"Source\"]\n",
    "iex_col_dtypes = {\"Date\": \"datetime64[ns]\",\n",
    "                  \"Open\": \"float64\",\n",
    "                  \"High\": \"float64\",\n",
    "                  \"Low\": \"float64\",\n",
    "                  \"Close\": \"float64\",\n",
    "                  \"Volume\": \"float64\",\n",
    "                  \"Symbol\": \"object\",\n",
    "                  \"Source\": \"object\"\n",
    "                 }"
   ]
  },
  {
   "cell_type": "code",
   "execution_count": 159,
   "metadata": {},
   "outputs": [
    {
     "name": "stderr",
     "output_type": "stream",
     "text": [
      "Aggregating IEX Historical Stock Performance\n",
      "0% [#######] 100% | ETA: 00:00:00\n",
      "Total time elapsed: 00:00:01\n"
     ]
    }
   ],
   "source": [
    "progress = bar.ProgBar(len(stock_symbols), monitor=True, title=\"Aggregating IEX Historical Stock Performance\")\n",
    "for stock in stock_symbols:\n",
    "    globals()[\"iex_%s\" %stock] = iexf.get_historical_data(stock, start=start, end=end_iexf)\n",
    "    temp_date = []\n",
    "    temp_open = []\n",
    "    temp_high = []\n",
    "    temp_low = []\n",
    "    temp_close = []\n",
    "    temp_vol = []\n",
    "    temp_symbol = []\n",
    "    temp_source = []\n",
    "    \n",
    "\n",
    "    temp_keys = globals()[\"iex_%s\" %stock][stock]\n",
    "    for key in temp_keys.keys():\n",
    "        temp_date.append(key)\n",
    "        temp_open.append(temp_keys[key][\"open\"])\n",
    "        temp_high.append(temp_keys[key][\"high\"])\n",
    "        temp_low.append(temp_keys[key][\"low\"])\n",
    "        temp_close.append(temp_keys[key][\"close\"])\n",
    "        temp_vol.append(temp_keys[key][\"volume\"])\n",
    "        temp_symbol.append(stock)\n",
    "        temp_source.append(\"IEX\")\n",
    "    globals()[\"iex_%s\" %stock] = pd.DataFrame(np.column_stack([temp_date,\n",
    "                                                               temp_open, \n",
    "                                                               temp_high,\n",
    "                                                               temp_low,\n",
    "                                                               temp_close,\n",
    "                                                               temp_vol,\n",
    "                                                               temp_symbol,\n",
    "                                                               temp_source]),\n",
    "                          columns=iex_col_data).astype(iex_col_dtypes)\n",
    "    globals()[\"iex_%s_df\" %stock] = globals()[\"iex_%s\" %stock].set_index([\"Date\"])\n",
    "    progress.update()\n"
   ]
  },
  {
   "cell_type": "markdown",
   "metadata": {},
   "source": [
    "##### Yahoo! Finance DataFrames Type and Index Validation"
   ]
  },
  {
   "cell_type": "code",
   "execution_count": 162,
   "metadata": {},
   "outputs": [
    {
     "name": "stdout",
     "output_type": "stream",
     "text": [
      "yahoo_BP_df: \n",
      "*******************\n",
      "Open      float64\n",
      "High      float64\n",
      "Low       float64\n",
      "Close     float64\n",
      "Volume    float64\n",
      "Symbol     object\n",
      "Source     object\n",
      "dtype: object\n",
      "___________________\n",
      "INDEX\n",
      "-------------------\n",
      "Date: datetime64[ns]\n",
      "Total Records: 30\n",
      "\n",
      "\n",
      "yahoo_FDX_df: \n",
      "*******************\n",
      "Open      float64\n",
      "High      float64\n",
      "Low       float64\n",
      "Close     float64\n",
      "Volume    float64\n",
      "Symbol     object\n",
      "Source     object\n",
      "dtype: object\n",
      "___________________\n",
      "INDEX\n",
      "-------------------\n",
      "Date: datetime64[ns]\n",
      "Total Records: 30\n",
      "\n",
      "\n",
      "yahoo_INTC_df: \n",
      "*******************\n",
      "Open      float64\n",
      "High      float64\n",
      "Low       float64\n",
      "Close     float64\n",
      "Volume    float64\n",
      "Symbol     object\n",
      "Source     object\n",
      "dtype: object\n",
      "___________________\n",
      "INDEX\n",
      "-------------------\n",
      "Date: datetime64[ns]\n",
      "Total Records: 30\n",
      "\n",
      "\n",
      "yahoo_MSFT_df: \n",
      "*******************\n",
      "Open      float64\n",
      "High      float64\n",
      "Low       float64\n",
      "Close     float64\n",
      "Volume    float64\n",
      "Symbol     object\n",
      "Source     object\n",
      "dtype: object\n",
      "___________________\n",
      "INDEX\n",
      "-------------------\n",
      "Date: datetime64[ns]\n",
      "Total Records: 30\n",
      "\n",
      "\n",
      "yahoo_ORCL_df: \n",
      "*******************\n",
      "Open      float64\n",
      "High      float64\n",
      "Low       float64\n",
      "Close     float64\n",
      "Volume    float64\n",
      "Symbol     object\n",
      "Source     object\n",
      "dtype: object\n",
      "___________________\n",
      "INDEX\n",
      "-------------------\n",
      "Date: datetime64[ns]\n",
      "Total Records: 30\n",
      "\n",
      "\n",
      "yahoo_UPS_df: \n",
      "*******************\n",
      "Open      float64\n",
      "High      float64\n",
      "Low       float64\n",
      "Close     float64\n",
      "Volume    float64\n",
      "Symbol     object\n",
      "Source     object\n",
      "dtype: object\n",
      "___________________\n",
      "INDEX\n",
      "-------------------\n",
      "Date: datetime64[ns]\n",
      "Total Records: 30\n",
      "\n",
      "\n",
      "yahoo_XOM_df: \n",
      "*******************\n",
      "Open      float64\n",
      "High      float64\n",
      "Low       float64\n",
      "Close     float64\n",
      "Volume    float64\n",
      "Symbol     object\n",
      "Source     object\n",
      "dtype: object\n",
      "___________________\n",
      "INDEX\n",
      "-------------------\n",
      "Date: datetime64[ns]\n",
      "Total Records: 30\n",
      "\n",
      "\n",
      "Total Stocks Captured: 7\n"
     ]
    }
   ],
   "source": [
    "for stock in stock_symbols:\n",
    "    total = len(globals()[\"yahoo_%s_df\" %stock])\n",
    "    print(\"yahoo_%s_df: \\n*******************\" %stock)\n",
    "    print(str(globals()[\"yahoo_%s_df\" %stock].dtypes)+\n",
    "          \"\\n___________________\\nINDEX\\n-------------------\\n\"+\n",
    "          str((globals()[\"yahoo_%s_df\" %stock].index.name))+\": \"+\n",
    "          (globals()[\"yahoo_%s_df\" %stock].index.dtype_str)+\n",
    "          \"\\nTotal Records: \"+str(total)+\"\\n\\n\")\n",
    "    \n",
    "print(\"Total Stocks Captured: \"+str(len(stock_symbols)))"
   ]
  },
  {
   "cell_type": "markdown",
   "metadata": {},
   "source": [
    "##### IEX Financial DataFrames Type and Index Validation"
   ]
  },
  {
   "cell_type": "code",
   "execution_count": 163,
   "metadata": {},
   "outputs": [
    {
     "name": "stdout",
     "output_type": "stream",
     "text": [
      "iex_BP_df: \n",
      "*******************\n",
      "Open      float64\n",
      "High      float64\n",
      "Low       float64\n",
      "Close     float64\n",
      "Volume    float64\n",
      "Symbol     object\n",
      "Source     object\n",
      "dtype: object\n",
      "___________________\n",
      "INDEX\n",
      "-------------------\n",
      "Date: datetime64[ns]\n",
      "Total Records: 30\n",
      "\n",
      "\n",
      "iex_FDX_df: \n",
      "*******************\n",
      "Open      float64\n",
      "High      float64\n",
      "Low       float64\n",
      "Close     float64\n",
      "Volume    float64\n",
      "Symbol     object\n",
      "Source     object\n",
      "dtype: object\n",
      "___________________\n",
      "INDEX\n",
      "-------------------\n",
      "Date: datetime64[ns]\n",
      "Total Records: 30\n",
      "\n",
      "\n",
      "iex_INTC_df: \n",
      "*******************\n",
      "Open      float64\n",
      "High      float64\n",
      "Low       float64\n",
      "Close     float64\n",
      "Volume    float64\n",
      "Symbol     object\n",
      "Source     object\n",
      "dtype: object\n",
      "___________________\n",
      "INDEX\n",
      "-------------------\n",
      "Date: datetime64[ns]\n",
      "Total Records: 30\n",
      "\n",
      "\n",
      "iex_MSFT_df: \n",
      "*******************\n",
      "Open      float64\n",
      "High      float64\n",
      "Low       float64\n",
      "Close     float64\n",
      "Volume    float64\n",
      "Symbol     object\n",
      "Source     object\n",
      "dtype: object\n",
      "___________________\n",
      "INDEX\n",
      "-------------------\n",
      "Date: datetime64[ns]\n",
      "Total Records: 30\n",
      "\n",
      "\n",
      "iex_ORCL_df: \n",
      "*******************\n",
      "Open      float64\n",
      "High      float64\n",
      "Low       float64\n",
      "Close     float64\n",
      "Volume    float64\n",
      "Symbol     object\n",
      "Source     object\n",
      "dtype: object\n",
      "___________________\n",
      "INDEX\n",
      "-------------------\n",
      "Date: datetime64[ns]\n",
      "Total Records: 30\n",
      "\n",
      "\n",
      "iex_UPS_df: \n",
      "*******************\n",
      "Open      float64\n",
      "High      float64\n",
      "Low       float64\n",
      "Close     float64\n",
      "Volume    float64\n",
      "Symbol     object\n",
      "Source     object\n",
      "dtype: object\n",
      "___________________\n",
      "INDEX\n",
      "-------------------\n",
      "Date: datetime64[ns]\n",
      "Total Records: 30\n",
      "\n",
      "\n",
      "iex_XOM_df: \n",
      "*******************\n",
      "Open      float64\n",
      "High      float64\n",
      "Low       float64\n",
      "Close     float64\n",
      "Volume    float64\n",
      "Symbol     object\n",
      "Source     object\n",
      "dtype: object\n",
      "___________________\n",
      "INDEX\n",
      "-------------------\n",
      "Date: datetime64[ns]\n",
      "Total Records: 30\n",
      "\n",
      "\n",
      "Total Stocks Captured: 7\n"
     ]
    }
   ],
   "source": [
    "for stock in stock_symbols:\n",
    "    total = len(globals()[\"iex_%s_df\" %stock])\n",
    "    print(\"iex_%s_df: \\n*******************\" %stock)\n",
    "    print(str(globals()[\"iex_%s_df\" %stock].dtypes)+\n",
    "          \"\\n___________________\\nINDEX\\n-------------------\\n\"+\n",
    "          str((globals()[\"iex_%s_df\" %stock].index.name))+\": \"+\n",
    "          (globals()[\"iex_%s_df\" %stock].index.dtype_str)+\n",
    "          \"\\nTotal Records: \"+str(total)+\"\\n\\n\")\n",
    "    \n",
    "print(\"Total Stocks Captured: \"+str(len(stock_symbols)))"
   ]
  },
  {
   "cell_type": "markdown",
   "metadata": {},
   "source": [
    "#### Consolidating each IEX and Yahoo! Dataframes into one per stock"
   ]
  },
  {
   "cell_type": "code",
   "execution_count": 164,
   "metadata": {},
   "outputs": [],
   "source": [
    "for stock in stock_symbols:\n",
    "    yahoo = globals()[\"yahoo_%s_df\" %stock]\n",
    "    iex = globals()[\"iex_%s_df\" %stock]\n",
    "    globals()[\"%s_df\" %stock] = pd.concat([yahoo,iex], sort=False)"
   ]
  },
  {
   "cell_type": "markdown",
   "metadata": {},
   "source": [
    "#### Combining all Stock Dataframes into one Dataframe"
   ]
  },
  {
   "cell_type": "code",
   "execution_count": 165,
   "metadata": {},
   "outputs": [],
   "source": [
    "for stock in stock_symbols:\n",
    "    \n",
    "Stocks_df = pd.concat([BP_df,FDX_df,INTC_df,MSFT_df,ORCL_df,UPS_df,XOM_df])"
   ]
  },
  {
   "cell_type": "code",
   "execution_count": 166,
   "metadata": {},
   "outputs": [],
   "source": [
    "test = Stocks_df"
   ]
  },
  {
   "cell_type": "code",
   "execution_count": 167,
   "metadata": {},
   "outputs": [
    {
     "data": {
      "text/plain": [
       "pandas._libs.tslibs.timestamps.Timestamp"
      ]
     },
     "execution_count": 167,
     "metadata": {},
     "output_type": "execute_result"
    }
   ],
   "source": [
    "type(test.index[5])"
   ]
  },
  {
   "cell_type": "markdown",
   "metadata": {},
   "source": [
    "#### Assigning the categories of the Summit timeline to the stock data"
   ]
  },
  {
   "cell_type": "code",
   "execution_count": 132,
   "metadata": {},
   "outputs": [],
   "source": [
    "events = { \"Coordination\": [dt.date(2018,5,15),\n",
    "                            dt.date(2018,5,23)],\n",
    "          \n",
    "           \"Cancelled\":    [dt.date(2018,5,24)],\n",
    "          \n",
    "           \"Rescheduled\":  [dt.date(2018,5,25),\n",
    "                            dt.date(2018,6,1)],\n",
    "           \n",
    "           \"Awaiting\":     [dt.date(2018,6,2),\n",
    "                            dt.date(2018,6,11)],\n",
    "          \n",
    "           \"Summit\":       [dt.date(2018,6,12)],\n",
    "           \"Aftermath\":    [dt.date(2018,6,13)]\n",
    "         }"
   ]
  },
  {
   "cell_type": "code",
   "execution_count": 133,
   "metadata": {},
   "outputs": [],
   "source": [
    "stockDateEvent = pd.DataFrame(np.column_stack([Stocks_df.index,Stocks_df[\"Event\"]]),\n",
    "                          columns=[\"Date\", \"Event\"]).astype({\"Date\": \"datetime64[ns]\",\"Event\": \"object\"})\n"
   ]
  },
  {
   "cell_type": "code",
   "execution_count": 134,
   "metadata": {},
   "outputs": [],
   "source": [
    "stockDateEvent.drop_duplicates(inplace=True)"
   ]
  },
  {
   "cell_type": "code",
   "execution_count": 135,
   "metadata": {},
   "outputs": [],
   "source": [
    "temp_date_map = []\n",
    "temp_event_map = []\n",
    "for x in range(len(stockDateEvent)):\n",
    "    e_date = stockDateEvent.Date[x].date()\n",
    "    temp_date_map.append(e_date)\n",
    "    if e_date == events[\"Summit\"][0]:\n",
    "        temp_event_map.append(\"Summit\")\n",
    "    elif e_date == events[\"Cancelled\"][0]:\n",
    "        temp_event_map.append(\"Cancelled\")\n",
    "    elif events[\"Coordination\"][0] <= e_date <= events[\"Coordination\"][1]:\n",
    "        temp_event_map.append(\"Coordination\")\n",
    "    elif events[\"Rescheduled\"][0] <= e_date <= events[\"Rescheduled\"][1]:\n",
    "        temp_event_map.append(\"Rescheduled\")\n",
    "    elif events[\"Awaiting\"][0] <= e_date <= events[\"Awaiting\"][1]:\n",
    "        temp_event_map.append(\"Awaiting\")\n",
    "    else:\n",
    "        temp_event_map.append(\"Aftermath\")\n"
   ]
  },
  {
   "cell_type": "code",
   "execution_count": 176,
   "metadata": {},
   "outputs": [],
   "source": [
    "dateJoin = pd.DataFrame(np.column_stack([temp_date_map,temp_event_map]), columns=[\"Date\",\"Event\"]).astype({\"Date\": \"datetime64[ns]\",\"Event\": \"object\"})\n",
    "eventMap = dateJoin.set_index(\"Date\")\n",
    "mapper = eventMap.to_dict(\"index\")"
   ]
  },
  {
   "cell_type": "code",
   "execution_count": 181,
   "metadata": {},
   "outputs": [],
   "source": [
    "stockAnalysis = pd.DataFrame(Stocks_df.merge(eventMap, left_index=True, right_index=True, how=\"left\"))\n",
    "stockAnalysis.to_csv(\"stockAnalysis.csv\")"
   ]
  }
 ],
 "metadata": {
  "kernelspec": {
   "display_name": "Python 3",
   "language": "python",
   "name": "python3"
  },
  "language_info": {
   "codemirror_mode": {
    "name": "ipython",
    "version": 3
   },
   "file_extension": ".py",
   "mimetype": "text/x-python",
   "name": "python",
   "nbconvert_exporter": "python",
   "pygments_lexer": "ipython3",
   "version": "3.6.5"
  }
 },
 "nbformat": 4,
 "nbformat_minor": 2
}
